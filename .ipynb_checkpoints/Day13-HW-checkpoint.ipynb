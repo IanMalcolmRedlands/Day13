{
 "cells": [
  {
   "cell_type": "markdown",
   "id": "74561943-756b-42cd-b493-cdf3b67e7c3d",
   "metadata": {},
   "source": [
    "## Introduction to Data Science\n",
    "\n",
    "#### University of Redlands - DATA 101\n",
    "#### Prof: Joanna Bieri [joanna_bieri@redlands.edu](mailto:joanna_bieri@redlands.edu)\n",
    "#### [Class Website: data101.joannabieri.com](https://joannabieri.com/data101.html)\n",
    "\n",
    "---------------------------------------\n",
    "# Homework Day 13\n",
    "---------------------------------------\n",
    "\n",
    "GOALS:\n",
    "\n",
    "1. Explore and respond to ideas around data ethics\n",
    "2. Recreate other peoples work to more honestly reflect data.\n",
    "\n",
    "----------------------------------------------------------\n",
    "\n",
    "This homework has **4 questions** and **1 exercise**"
   ]
  },
  {
   "cell_type": "markdown",
   "id": "d0c422e3-32b1-452f-89a8-2586784d3957",
   "metadata": {},
   "source": [
    "## Important Information\n",
    "\n",
    "- Email: [joanna_bieri@redlands.edu](mailto:joanna_bieri@redlands.edu)\n",
    "- Office Hours: Duke 209 <a href=\"https://joannabieri.com/schedule.html\"> Click Here for Joanna's Schedule</a>\n",
    "\n",
    "## Day 13 Assignment - same drill.\n",
    "\n",
    "1. Make sure you can **Fork** and **Clone** the Day13 repo from [Redlands-DATA101](https://github.com/Redlands-DATA101)\n",
    "2. Open the file Day13-HW.ipynb and start doing the problems.\n",
    "    * You can do these problems as you follow along with the lecture notes and video.\n",
    "3. Get as far as you can before class.\n",
    "4. Submit what you have so far **Commit** and **Push** to Git.\n",
    "5. Take the daily check in quiz on **Canvas**.\n",
    "7. Come to class with lots of questions!"
   ]
  },
  {
   "cell_type": "code",
   "execution_count": 3,
   "id": "d0153569-41e3-4696-9b34-83ba90a0b5cf",
   "metadata": {},
   "outputs": [],
   "source": [
    "import numpy as np\n",
    "import pandas as pd\n",
    "\n",
    "import matplotlib.pyplot as plt\n",
    "import plotly.express as px\n",
    "from plotly.subplots import make_subplots\n",
    "import plotly.io as pio\n",
    "pio.renderers.defaule = 'colab'\n",
    "\n",
    "from itables import show\n",
    "\n",
    "# This stops a few warning messages from showing\n",
    "pd.options.mode.chained_assignment = None \n",
    "import warnings\n",
    "warnings.simplefilter(action='ignore', category=FutureWarning)"
   ]
  },
  {
   "cell_type": "markdown",
   "id": "b75d6a18-2959-4802-bb19-24a635fa9aa9",
   "metadata": {},
   "source": [
    "## Data Science Ethics\n",
    "\n",
    "## Misrepresentation\n",
    "\n",
    "Misrepresentation can happen intentionally or unintentionally. It can arise because of lack of knowledge of competence in data science. It is important to be aware of misrepresentation and be able to spot it a mile away in your work and in other peoples work!\n",
    "\n",
    "What is wrong with this picture? How would you correct it?\n",
    "\n",
    "\n",
    "![Confirmed Covid Cases](images/ga-dph-declining-bars.jpg)\n",
    "\n",
    "- Overall this looks like the heights of bars are going down.\n",
    "- Dates are on the x-axis.\n",
    "- Are covid cases going down over time?\n",
    "\n",
    "**Q1** Write in your own words what you see that is wrong with this graph. What is the story it is telling vs the real story in the data?\n",
    "\n",
    "\n",
    "**Q2** Is it okay to misrepresent your data if you are getting people to \"do the right thing\"? For example, more exercise is good for you, right? Was it so bad to misrepresent the results of the cancer and exercise studies?\n"
   ]
  },
  {
   "cell_type": "markdown",
   "id": "083452b9-f772-48ea-831f-39b0791058e0",
   "metadata": {},
   "source": [
    "**Response Q1** The issue with this graph is that dates are being ordered by covid case amounts, not by chronological order. This makes it appear as though the numbers of covid cases decreased steadily in the previous 15 days, when in fact there seems to have been much more fluctuation than represented.\n",
    "\n",
    "**Response Q2** I believe I have heard a saying along the lines of \"society is built upon the little lies we tell ourselves and others,\" and I think a certain amount of mistruth is actually necessary to keep a country working properly. That said, it is not necessarily moral to take advantage of others' faith in your words, even if you do so for their own good. What one person thinks is good may be far from what another may believe, and mistruth prevents others from making informed decisions based on their own morals. But then again, even that statement is based on my own beliefs as to what consitutes good (which includes rights to freedom). Someone else may believe it is actively immoral not to mislead others for their benefit (or even the benefit of some higher ideal). The only real problem with this is that you either end up with a society with major blindspots, or a society that doesn't trust anything anyone says."
   ]
  },
  {
   "cell_type": "markdown",
   "id": "c313f413-e9c5-4a88-927f-24e251bc622a",
   "metadata": {},
   "source": [
    "## Data Privacy\n",
    "\n",
    "The question of data privacy is complicated and rests on the idea of what amount of expected privacy are we entitled to when we put our data online.\n",
    "\n",
    "## Data Privacy -  Case study: \n",
    "\n",
    "**Q3** When analyzing data that is publicly shared, how can you make sure that you are not violating a persons reasonable expectation of privacy? What do you think the rules should be here? How would you want your data treated?\n",
    "\n",
    "**Q4** Does the answer to the question \"Should I scrape this data\" vary based on what the data is about? Give two examples where the answer might be different.\n",
    "\n"
   ]
  },
  {
   "cell_type": "markdown",
   "id": "e3da6ce8-0273-4ad2-9548-637c6168f475",
   "metadata": {},
   "source": [
    "**Response Q3** The only way to truly preserve privacy when analyzing publicly shared data is to collect only data for which is it is likely any one person's metrics are likely to be the same as those of multiple other people. One rule could be that every data record must duplicate at least 1-10% of other data records (save for id) depending on the sample size, minimum 100 or so. And I would only count data as public at all if you don't need to be someone's 'friend' to see it. I would want my data to only be seen by those who I have actively invited to see it.\n",
    "\n",
    "**Response Q4** Scraping data becomes more morally risky when working with more provocative personal information, or any information that could be used to blackmail or endanger someone. For example, political inclinations should always be carefully anonymized if scraped, but height data is less dangerous."
   ]
  },
  {
   "cell_type": "markdown",
   "id": "6252c36c-2895-4e10-9918-7ab674192598",
   "metadata": {},
   "source": [
    "## Exercise 1\n",
    "\n",
    "Consider the following visualization that was shared on Twitter:\n",
    "\n",
    "[Visualization on Twitter](https://twitter.com/JonBoeckenstedt/status/1291602888376999936)\n",
    "\n",
    "You are going to construct the data by reading (approximate is okay) the numbers from the picture.\n",
    "\n",
    "1. What is most misleading about this graph - essay answer\n",
    "\n",
    "2.  Create a data frame that can be used to re-construct this visualization. You may need to guess some of the numbers, that's ok. You should first think about how many rows and columns you'll need and what you want to call your variables.\n",
    "\n",
    "\n",
    "Here is some code to get you started:"
   ]
  },
  {
   "cell_type": "markdown",
   "id": "c7b4dc7d-c312-41e0-a0fc-9f535a9098f1",
   "metadata": {},
   "source": [
    "**Response Q1**\n",
    "The most misleading part of the given graph is the use of two different scales for the two lines, despite them being graphed on top of one another. The line for counties on the mask mandate is on a scale of 15 to 25, whereas the line for counties without a mask mandate is on a scale of 4 to 14. This makes it appear as if cases in mask-mandate counties eventually dropped below cases in non-mask-mandate counties. In reality, even at their lowest point, the count of cases for mask-mandate counties was half again as high as that for unmasked counties. It seems as though the graph's creator was attempting to show that mask mandates had a real effect on case numbers by comparing the downward trend of cases in masked counties to the more-static trend of cases in non-mask counties. While the graph does adequately show the trend difference, it would have been just as effective and less misleading to use one scale for both."
   ]
  },
  {
   "cell_type": "code",
   "execution_count": 55,
   "id": "7d4bc2c6-8218-4c4d-9def-d9270ea74233",
   "metadata": {},
   "outputs": [
    {
     "data": {
      "text/html": [
       "<div>\n",
       "<style scoped>\n",
       "    .dataframe tbody tr th:only-of-type {\n",
       "        vertical-align: middle;\n",
       "    }\n",
       "\n",
       "    .dataframe tbody tr th {\n",
       "        vertical-align: top;\n",
       "    }\n",
       "\n",
       "    .dataframe thead th {\n",
       "        text-align: right;\n",
       "    }\n",
       "</style>\n",
       "<table border=\"1\" class=\"dataframe\">\n",
       "  <thead>\n",
       "    <tr style=\"text-align: right;\">\n",
       "      <th></th>\n",
       "      <th>date</th>\n",
       "      <th>count_mask</th>\n",
       "      <th>count_nomask</th>\n",
       "    </tr>\n",
       "  </thead>\n",
       "  <tbody>\n",
       "    <tr>\n",
       "      <th>0</th>\n",
       "      <td>7/12/2020</td>\n",
       "      <td>26.0</td>\n",
       "      <td>10.0</td>\n",
       "    </tr>\n",
       "    <tr>\n",
       "      <th>1</th>\n",
       "      <td>7/13/2020</td>\n",
       "      <td>20.0</td>\n",
       "      <td>9.0</td>\n",
       "    </tr>\n",
       "    <tr>\n",
       "      <th>2</th>\n",
       "      <td>7/14/2020</td>\n",
       "      <td>20.0</td>\n",
       "      <td>9.5</td>\n",
       "    </tr>\n",
       "    <tr>\n",
       "      <th>3</th>\n",
       "      <td>7/15/2020</td>\n",
       "      <td>20.5</td>\n",
       "      <td>10.0</td>\n",
       "    </tr>\n",
       "    <tr>\n",
       "      <th>4</th>\n",
       "      <td>7/16/2020</td>\n",
       "      <td>20.0</td>\n",
       "      <td>10.0</td>\n",
       "    </tr>\n",
       "    <tr>\n",
       "      <th>5</th>\n",
       "      <td>7/17/2020</td>\n",
       "      <td>20.0</td>\n",
       "      <td>9.5</td>\n",
       "    </tr>\n",
       "    <tr>\n",
       "      <th>6</th>\n",
       "      <td>7/18/2020</td>\n",
       "      <td>20.5</td>\n",
       "      <td>9.5</td>\n",
       "    </tr>\n",
       "    <tr>\n",
       "      <th>7</th>\n",
       "      <td>7/19/2020</td>\n",
       "      <td>20.0</td>\n",
       "      <td>9.0</td>\n",
       "    </tr>\n",
       "    <tr>\n",
       "      <th>8</th>\n",
       "      <td>7/20/2020</td>\n",
       "      <td>20.5</td>\n",
       "      <td>8.5</td>\n",
       "    </tr>\n",
       "    <tr>\n",
       "      <th>9</th>\n",
       "      <td>7/21/2020</td>\n",
       "      <td>21.5</td>\n",
       "      <td>8.5</td>\n",
       "    </tr>\n",
       "    <tr>\n",
       "      <th>10</th>\n",
       "      <td>7/22/2020</td>\n",
       "      <td>20.0</td>\n",
       "      <td>8.5</td>\n",
       "    </tr>\n",
       "    <tr>\n",
       "      <th>11</th>\n",
       "      <td>7/23/2020</td>\n",
       "      <td>20.0</td>\n",
       "      <td>8.5</td>\n",
       "    </tr>\n",
       "    <tr>\n",
       "      <th>12</th>\n",
       "      <td>7/24/2020</td>\n",
       "      <td>20.5</td>\n",
       "      <td>10.0</td>\n",
       "    </tr>\n",
       "    <tr>\n",
       "      <th>13</th>\n",
       "      <td>7/25/2020</td>\n",
       "      <td>19.0</td>\n",
       "      <td>10.0</td>\n",
       "    </tr>\n",
       "    <tr>\n",
       "      <th>14</th>\n",
       "      <td>7/26/2020</td>\n",
       "      <td>19.5</td>\n",
       "      <td>10.0</td>\n",
       "    </tr>\n",
       "    <tr>\n",
       "      <th>15</th>\n",
       "      <td>7/27/2020</td>\n",
       "      <td>17.0</td>\n",
       "      <td>9.5</td>\n",
       "    </tr>\n",
       "    <tr>\n",
       "      <th>16</th>\n",
       "      <td>7/28/2020</td>\n",
       "      <td>16.5</td>\n",
       "      <td>9.5</td>\n",
       "    </tr>\n",
       "    <tr>\n",
       "      <th>17</th>\n",
       "      <td>7/29/2020</td>\n",
       "      <td>16.5</td>\n",
       "      <td>9.5</td>\n",
       "    </tr>\n",
       "    <tr>\n",
       "      <th>18</th>\n",
       "      <td>7/30/2020</td>\n",
       "      <td>16.5</td>\n",
       "      <td>10.0</td>\n",
       "    </tr>\n",
       "    <tr>\n",
       "      <th>19</th>\n",
       "      <td>7/31/2020</td>\n",
       "      <td>16.0</td>\n",
       "      <td>9.0</td>\n",
       "    </tr>\n",
       "    <tr>\n",
       "      <th>20</th>\n",
       "      <td>8/1/2020</td>\n",
       "      <td>16.0</td>\n",
       "      <td>9.0</td>\n",
       "    </tr>\n",
       "    <tr>\n",
       "      <th>21</th>\n",
       "      <td>8/2/2020</td>\n",
       "      <td>16.0</td>\n",
       "      <td>9.0</td>\n",
       "    </tr>\n",
       "    <tr>\n",
       "      <th>22</th>\n",
       "      <td>8/3/2020</td>\n",
       "      <td>16.0</td>\n",
       "      <td>9.0</td>\n",
       "    </tr>\n",
       "  </tbody>\n",
       "</table>\n",
       "</div>"
      ],
      "text/plain": [
       "         date  count_mask  count_nomask\n",
       "0   7/12/2020        26.0          10.0\n",
       "1   7/13/2020        20.0           9.0\n",
       "2   7/14/2020        20.0           9.5\n",
       "3   7/15/2020        20.5          10.0\n",
       "4   7/16/2020        20.0          10.0\n",
       "5   7/17/2020        20.0           9.5\n",
       "6   7/18/2020        20.5           9.5\n",
       "7   7/19/2020        20.0           9.0\n",
       "8   7/20/2020        20.5           8.5\n",
       "9   7/21/2020        21.5           8.5\n",
       "10  7/22/2020        20.0           8.5\n",
       "11  7/23/2020        20.0           8.5\n",
       "12  7/24/2020        20.5          10.0\n",
       "13  7/25/2020        19.0          10.0\n",
       "14  7/26/2020        19.5          10.0\n",
       "15  7/27/2020        17.0           9.5\n",
       "16  7/28/2020        16.5           9.5\n",
       "17  7/29/2020        16.5           9.5\n",
       "18  7/30/2020        16.5          10.0\n",
       "19  7/31/2020        16.0           9.0\n",
       "20   8/1/2020        16.0           9.0\n",
       "21   8/2/2020        16.0           9.0\n",
       "22   8/3/2020        16.0           9.0"
      ]
     },
     "execution_count": 55,
     "metadata": {},
     "output_type": "execute_result"
    }
   ],
   "source": [
    "date = [f'7/{i}/2020' for i in range(12,32)]\n",
    "date.extend(['8/1/2020','8/2/2020','8/3/2020'])\n",
    "count_mask = [26,20,20,20.5,20,20,20.5,20,20.5,21.5,20,20,20.5,19,19.5,17,16.5,16.5,16.5,16,16,16,16]\n",
    "count_nomask = [10,9,9.5,10,10,9.5,9.5,9,8.5,8.5,8.5,8.5,10,10,10,9.5,9.5,9.5,10,9,9,9,9]\n",
    "\n",
    "DF = pd.DataFrame()\n",
    "DF['date']=date\n",
    "DF['count_mask']=count_mask\n",
    "DF['count_nomask']=count_nomask\n",
    "DF"
   ]
  },
  {
   "cell_type": "markdown",
   "id": "1cf33f04-f1a2-42b5-b60d-03745563e1db",
   "metadata": {},
   "source": [
    "3. Make a visualization of this data that is more accurate. Your visualization should more honestly tell the story.\n",
    "\n",
    "               fig = pd.line(DF,x= ,y= )\n",
    "\n",
    "   \n",
    "5. What message is more clear in your visualization, compared to the one posted on twitter?\n",
    "6. What, if any, useful information do these data and your visualization tell us about mask wearing and COVID? It’ll be difficult to set aside what you already know about mask wearing, but you should try to focus only on what this visualization tells. Feel free to also comment on whether that lines up with what you know about mask wearing.\n",
    "7. Could there be confounding data? What can you actually say about the data as given?"
   ]
  },
  {
   "cell_type": "code",
   "execution_count": 61,
   "id": "54d2b899-307c-4eff-b046-26b9299c3e00",
   "metadata": {},
   "outputs": [
    {
     "data": {
      "application/vnd.plotly.v1+json": {
       "config": {
        "plotlyServerURL": "https://plot.ly"
       },
       "data": [
        {
         "hovertemplate": "variable=count_mask<br>date=%{x}<br>value=%{y}<extra></extra>",
         "legendgroup": "count_mask",
         "line": {
          "color": "orange",
          "dash": "solid"
         },
         "marker": {
          "symbol": "circle"
         },
         "mode": "lines",
         "name": "count_mask",
         "orientation": "v",
         "showlegend": true,
         "type": "scatter",
         "x": [
          "7/12/2020",
          "7/13/2020",
          "7/14/2020",
          "7/15/2020",
          "7/16/2020",
          "7/17/2020",
          "7/18/2020",
          "7/19/2020",
          "7/20/2020",
          "7/21/2020",
          "7/22/2020",
          "7/23/2020",
          "7/24/2020",
          "7/25/2020",
          "7/26/2020",
          "7/27/2020",
          "7/28/2020",
          "7/29/2020",
          "7/30/2020",
          "7/31/2020",
          "8/1/2020",
          "8/2/2020",
          "8/3/2020"
         ],
         "xaxis": "x",
         "y": [
          26,
          20,
          20,
          20.5,
          20,
          20,
          20.5,
          20,
          20.5,
          21.5,
          20,
          20,
          20.5,
          19,
          19.5,
          17,
          16.5,
          16.5,
          16.5,
          16,
          16,
          16,
          16
         ],
         "yaxis": "y"
        },
        {
         "hovertemplate": "variable=count_nomask<br>date=%{x}<br>value=%{y}<extra></extra>",
         "legendgroup": "count_nomask",
         "line": {
          "color": "blue",
          "dash": "solid"
         },
         "marker": {
          "symbol": "circle"
         },
         "mode": "lines",
         "name": "count_nomask",
         "orientation": "v",
         "showlegend": true,
         "type": "scatter",
         "x": [
          "7/12/2020",
          "7/13/2020",
          "7/14/2020",
          "7/15/2020",
          "7/16/2020",
          "7/17/2020",
          "7/18/2020",
          "7/19/2020",
          "7/20/2020",
          "7/21/2020",
          "7/22/2020",
          "7/23/2020",
          "7/24/2020",
          "7/25/2020",
          "7/26/2020",
          "7/27/2020",
          "7/28/2020",
          "7/29/2020",
          "7/30/2020",
          "7/31/2020",
          "8/1/2020",
          "8/2/2020",
          "8/3/2020"
         ],
         "xaxis": "x",
         "y": [
          10,
          9,
          9.5,
          10,
          10,
          9.5,
          9.5,
          9,
          8.5,
          8.5,
          8.5,
          8.5,
          10,
          10,
          10,
          9.5,
          9.5,
          9.5,
          10,
          9,
          9,
          9,
          9
         ],
         "yaxis": "y"
        }
       ],
       "layout": {
        "autosize": true,
        "legend": {
         "title": {
          "text": "variable"
         },
         "tracegroupgap": 0
        },
        "margin": {
         "t": 60
        },
        "template": {
         "data": {
          "bar": [
           {
            "error_x": {
             "color": "#2a3f5f"
            },
            "error_y": {
             "color": "#2a3f5f"
            },
            "marker": {
             "line": {
              "color": "#E5ECF6",
              "width": 0.5
             },
             "pattern": {
              "fillmode": "overlay",
              "size": 10,
              "solidity": 0.2
             }
            },
            "type": "bar"
           }
          ],
          "barpolar": [
           {
            "marker": {
             "line": {
              "color": "#E5ECF6",
              "width": 0.5
             },
             "pattern": {
              "fillmode": "overlay",
              "size": 10,
              "solidity": 0.2
             }
            },
            "type": "barpolar"
           }
          ],
          "carpet": [
           {
            "aaxis": {
             "endlinecolor": "#2a3f5f",
             "gridcolor": "white",
             "linecolor": "white",
             "minorgridcolor": "white",
             "startlinecolor": "#2a3f5f"
            },
            "baxis": {
             "endlinecolor": "#2a3f5f",
             "gridcolor": "white",
             "linecolor": "white",
             "minorgridcolor": "white",
             "startlinecolor": "#2a3f5f"
            },
            "type": "carpet"
           }
          ],
          "choropleth": [
           {
            "colorbar": {
             "outlinewidth": 0,
             "ticks": ""
            },
            "type": "choropleth"
           }
          ],
          "contour": [
           {
            "colorbar": {
             "outlinewidth": 0,
             "ticks": ""
            },
            "colorscale": [
             [
              0,
              "#0d0887"
             ],
             [
              0.1111111111111111,
              "#46039f"
             ],
             [
              0.2222222222222222,
              "#7201a8"
             ],
             [
              0.3333333333333333,
              "#9c179e"
             ],
             [
              0.4444444444444444,
              "#bd3786"
             ],
             [
              0.5555555555555556,
              "#d8576b"
             ],
             [
              0.6666666666666666,
              "#ed7953"
             ],
             [
              0.7777777777777778,
              "#fb9f3a"
             ],
             [
              0.8888888888888888,
              "#fdca26"
             ],
             [
              1,
              "#f0f921"
             ]
            ],
            "type": "contour"
           }
          ],
          "contourcarpet": [
           {
            "colorbar": {
             "outlinewidth": 0,
             "ticks": ""
            },
            "type": "contourcarpet"
           }
          ],
          "heatmap": [
           {
            "colorbar": {
             "outlinewidth": 0,
             "ticks": ""
            },
            "colorscale": [
             [
              0,
              "#0d0887"
             ],
             [
              0.1111111111111111,
              "#46039f"
             ],
             [
              0.2222222222222222,
              "#7201a8"
             ],
             [
              0.3333333333333333,
              "#9c179e"
             ],
             [
              0.4444444444444444,
              "#bd3786"
             ],
             [
              0.5555555555555556,
              "#d8576b"
             ],
             [
              0.6666666666666666,
              "#ed7953"
             ],
             [
              0.7777777777777778,
              "#fb9f3a"
             ],
             [
              0.8888888888888888,
              "#fdca26"
             ],
             [
              1,
              "#f0f921"
             ]
            ],
            "type": "heatmap"
           }
          ],
          "heatmapgl": [
           {
            "colorbar": {
             "outlinewidth": 0,
             "ticks": ""
            },
            "colorscale": [
             [
              0,
              "#0d0887"
             ],
             [
              0.1111111111111111,
              "#46039f"
             ],
             [
              0.2222222222222222,
              "#7201a8"
             ],
             [
              0.3333333333333333,
              "#9c179e"
             ],
             [
              0.4444444444444444,
              "#bd3786"
             ],
             [
              0.5555555555555556,
              "#d8576b"
             ],
             [
              0.6666666666666666,
              "#ed7953"
             ],
             [
              0.7777777777777778,
              "#fb9f3a"
             ],
             [
              0.8888888888888888,
              "#fdca26"
             ],
             [
              1,
              "#f0f921"
             ]
            ],
            "type": "heatmapgl"
           }
          ],
          "histogram": [
           {
            "marker": {
             "pattern": {
              "fillmode": "overlay",
              "size": 10,
              "solidity": 0.2
             }
            },
            "type": "histogram"
           }
          ],
          "histogram2d": [
           {
            "colorbar": {
             "outlinewidth": 0,
             "ticks": ""
            },
            "colorscale": [
             [
              0,
              "#0d0887"
             ],
             [
              0.1111111111111111,
              "#46039f"
             ],
             [
              0.2222222222222222,
              "#7201a8"
             ],
             [
              0.3333333333333333,
              "#9c179e"
             ],
             [
              0.4444444444444444,
              "#bd3786"
             ],
             [
              0.5555555555555556,
              "#d8576b"
             ],
             [
              0.6666666666666666,
              "#ed7953"
             ],
             [
              0.7777777777777778,
              "#fb9f3a"
             ],
             [
              0.8888888888888888,
              "#fdca26"
             ],
             [
              1,
              "#f0f921"
             ]
            ],
            "type": "histogram2d"
           }
          ],
          "histogram2dcontour": [
           {
            "colorbar": {
             "outlinewidth": 0,
             "ticks": ""
            },
            "colorscale": [
             [
              0,
              "#0d0887"
             ],
             [
              0.1111111111111111,
              "#46039f"
             ],
             [
              0.2222222222222222,
              "#7201a8"
             ],
             [
              0.3333333333333333,
              "#9c179e"
             ],
             [
              0.4444444444444444,
              "#bd3786"
             ],
             [
              0.5555555555555556,
              "#d8576b"
             ],
             [
              0.6666666666666666,
              "#ed7953"
             ],
             [
              0.7777777777777778,
              "#fb9f3a"
             ],
             [
              0.8888888888888888,
              "#fdca26"
             ],
             [
              1,
              "#f0f921"
             ]
            ],
            "type": "histogram2dcontour"
           }
          ],
          "mesh3d": [
           {
            "colorbar": {
             "outlinewidth": 0,
             "ticks": ""
            },
            "type": "mesh3d"
           }
          ],
          "parcoords": [
           {
            "line": {
             "colorbar": {
              "outlinewidth": 0,
              "ticks": ""
             }
            },
            "type": "parcoords"
           }
          ],
          "pie": [
           {
            "automargin": true,
            "type": "pie"
           }
          ],
          "scatter": [
           {
            "fillpattern": {
             "fillmode": "overlay",
             "size": 10,
             "solidity": 0.2
            },
            "type": "scatter"
           }
          ],
          "scatter3d": [
           {
            "line": {
             "colorbar": {
              "outlinewidth": 0,
              "ticks": ""
             }
            },
            "marker": {
             "colorbar": {
              "outlinewidth": 0,
              "ticks": ""
             }
            },
            "type": "scatter3d"
           }
          ],
          "scattercarpet": [
           {
            "marker": {
             "colorbar": {
              "outlinewidth": 0,
              "ticks": ""
             }
            },
            "type": "scattercarpet"
           }
          ],
          "scattergeo": [
           {
            "marker": {
             "colorbar": {
              "outlinewidth": 0,
              "ticks": ""
             }
            },
            "type": "scattergeo"
           }
          ],
          "scattergl": [
           {
            "marker": {
             "colorbar": {
              "outlinewidth": 0,
              "ticks": ""
             }
            },
            "type": "scattergl"
           }
          ],
          "scattermapbox": [
           {
            "marker": {
             "colorbar": {
              "outlinewidth": 0,
              "ticks": ""
             }
            },
            "type": "scattermapbox"
           }
          ],
          "scatterpolar": [
           {
            "marker": {
             "colorbar": {
              "outlinewidth": 0,
              "ticks": ""
             }
            },
            "type": "scatterpolar"
           }
          ],
          "scatterpolargl": [
           {
            "marker": {
             "colorbar": {
              "outlinewidth": 0,
              "ticks": ""
             }
            },
            "type": "scatterpolargl"
           }
          ],
          "scatterternary": [
           {
            "marker": {
             "colorbar": {
              "outlinewidth": 0,
              "ticks": ""
             }
            },
            "type": "scatterternary"
           }
          ],
          "surface": [
           {
            "colorbar": {
             "outlinewidth": 0,
             "ticks": ""
            },
            "colorscale": [
             [
              0,
              "#0d0887"
             ],
             [
              0.1111111111111111,
              "#46039f"
             ],
             [
              0.2222222222222222,
              "#7201a8"
             ],
             [
              0.3333333333333333,
              "#9c179e"
             ],
             [
              0.4444444444444444,
              "#bd3786"
             ],
             [
              0.5555555555555556,
              "#d8576b"
             ],
             [
              0.6666666666666666,
              "#ed7953"
             ],
             [
              0.7777777777777778,
              "#fb9f3a"
             ],
             [
              0.8888888888888888,
              "#fdca26"
             ],
             [
              1,
              "#f0f921"
             ]
            ],
            "type": "surface"
           }
          ],
          "table": [
           {
            "cells": {
             "fill": {
              "color": "#EBF0F8"
             },
             "line": {
              "color": "white"
             }
            },
            "header": {
             "fill": {
              "color": "#C8D4E3"
             },
             "line": {
              "color": "white"
             }
            },
            "type": "table"
           }
          ]
         },
         "layout": {
          "annotationdefaults": {
           "arrowcolor": "#2a3f5f",
           "arrowhead": 0,
           "arrowwidth": 1
          },
          "autotypenumbers": "strict",
          "coloraxis": {
           "colorbar": {
            "outlinewidth": 0,
            "ticks": ""
           }
          },
          "colorscale": {
           "diverging": [
            [
             0,
             "#8e0152"
            ],
            [
             0.1,
             "#c51b7d"
            ],
            [
             0.2,
             "#de77ae"
            ],
            [
             0.3,
             "#f1b6da"
            ],
            [
             0.4,
             "#fde0ef"
            ],
            [
             0.5,
             "#f7f7f7"
            ],
            [
             0.6,
             "#e6f5d0"
            ],
            [
             0.7,
             "#b8e186"
            ],
            [
             0.8,
             "#7fbc41"
            ],
            [
             0.9,
             "#4d9221"
            ],
            [
             1,
             "#276419"
            ]
           ],
           "sequential": [
            [
             0,
             "#0d0887"
            ],
            [
             0.1111111111111111,
             "#46039f"
            ],
            [
             0.2222222222222222,
             "#7201a8"
            ],
            [
             0.3333333333333333,
             "#9c179e"
            ],
            [
             0.4444444444444444,
             "#bd3786"
            ],
            [
             0.5555555555555556,
             "#d8576b"
            ],
            [
             0.6666666666666666,
             "#ed7953"
            ],
            [
             0.7777777777777778,
             "#fb9f3a"
            ],
            [
             0.8888888888888888,
             "#fdca26"
            ],
            [
             1,
             "#f0f921"
            ]
           ],
           "sequentialminus": [
            [
             0,
             "#0d0887"
            ],
            [
             0.1111111111111111,
             "#46039f"
            ],
            [
             0.2222222222222222,
             "#7201a8"
            ],
            [
             0.3333333333333333,
             "#9c179e"
            ],
            [
             0.4444444444444444,
             "#bd3786"
            ],
            [
             0.5555555555555556,
             "#d8576b"
            ],
            [
             0.6666666666666666,
             "#ed7953"
            ],
            [
             0.7777777777777778,
             "#fb9f3a"
            ],
            [
             0.8888888888888888,
             "#fdca26"
            ],
            [
             1,
             "#f0f921"
            ]
           ]
          },
          "colorway": [
           "#636efa",
           "#EF553B",
           "#00cc96",
           "#ab63fa",
           "#FFA15A",
           "#19d3f3",
           "#FF6692",
           "#B6E880",
           "#FF97FF",
           "#FECB52"
          ],
          "font": {
           "color": "#2a3f5f"
          },
          "geo": {
           "bgcolor": "white",
           "lakecolor": "white",
           "landcolor": "#E5ECF6",
           "showlakes": true,
           "showland": true,
           "subunitcolor": "white"
          },
          "hoverlabel": {
           "align": "left"
          },
          "hovermode": "closest",
          "mapbox": {
           "style": "light"
          },
          "paper_bgcolor": "white",
          "plot_bgcolor": "#E5ECF6",
          "polar": {
           "angularaxis": {
            "gridcolor": "white",
            "linecolor": "white",
            "ticks": ""
           },
           "bgcolor": "#E5ECF6",
           "radialaxis": {
            "gridcolor": "white",
            "linecolor": "white",
            "ticks": ""
           }
          },
          "scene": {
           "xaxis": {
            "backgroundcolor": "#E5ECF6",
            "gridcolor": "white",
            "gridwidth": 2,
            "linecolor": "white",
            "showbackground": true,
            "ticks": "",
            "zerolinecolor": "white"
           },
           "yaxis": {
            "backgroundcolor": "#E5ECF6",
            "gridcolor": "white",
            "gridwidth": 2,
            "linecolor": "white",
            "showbackground": true,
            "ticks": "",
            "zerolinecolor": "white"
           },
           "zaxis": {
            "backgroundcolor": "#E5ECF6",
            "gridcolor": "white",
            "gridwidth": 2,
            "linecolor": "white",
            "showbackground": true,
            "ticks": "",
            "zerolinecolor": "white"
           }
          },
          "shapedefaults": {
           "line": {
            "color": "#2a3f5f"
           }
          },
          "ternary": {
           "aaxis": {
            "gridcolor": "white",
            "linecolor": "white",
            "ticks": ""
           },
           "baxis": {
            "gridcolor": "white",
            "linecolor": "white",
            "ticks": ""
           },
           "bgcolor": "#E5ECF6",
           "caxis": {
            "gridcolor": "white",
            "linecolor": "white",
            "ticks": ""
           }
          },
          "title": {
           "x": 0.05
          },
          "xaxis": {
           "automargin": true,
           "gridcolor": "white",
           "linecolor": "white",
           "ticks": "",
           "title": {
            "standoff": 15
           },
           "zerolinecolor": "white",
           "zerolinewidth": 2
          },
          "yaxis": {
           "automargin": true,
           "gridcolor": "white",
           "linecolor": "white",
           "ticks": "",
           "title": {
            "standoff": 15
           },
           "zerolinecolor": "white",
           "zerolinewidth": 2
          }
         }
        },
        "xaxis": {
         "anchor": "y",
         "autorange": true,
         "domain": [
          0,
          1
         ],
         "range": [
          0,
          22
         ],
         "title": {
          "text": "date"
         },
         "type": "category"
        },
        "yaxis": {
         "anchor": "x",
         "autorange": true,
         "domain": [
          0,
          1
         ],
         "range": [
          7.527777777777778,
          26.97222222222222
         ],
         "title": {
          "text": "value"
         },
         "type": "linear"
        }
       }
      },
      "image/png": "[encoded data removed]",
      "text/html": [
       "<div>                            <div id=\"eb8fbcaa-1147-41ac-adfc-d789391a143c\" class=\"plotly-graph-div\" style=\"height:525px; width:100%;\"></div>            <script type=\"text/javascript\">                require([\"plotly\"], function(Plotly) {                    window.PLOTLYENV=window.PLOTLYENV || {};                                    if (document.getElementById(\"eb8fbcaa-1147-41ac-adfc-d789391a143c\")) {                    Plotly.newPlot(                        \"eb8fbcaa-1147-41ac-adfc-d789391a143c\",                        [{\"hovertemplate\":\"variable=count_mask\\u003cbr\\u003edate=%{x}\\u003cbr\\u003evalue=%{y}\\u003cextra\\u003e\\u003c\\u002fextra\\u003e\",\"legendgroup\":\"count_mask\",\"line\":{\"color\":\"orange\",\"dash\":\"solid\"},\"marker\":{\"symbol\":\"circle\"},\"mode\":\"lines\",\"name\":\"count_mask\",\"orientation\":\"v\",\"showlegend\":true,\"x\":[\"7\\u002f12\\u002f2020\",\"7\\u002f13\\u002f2020\",\"7\\u002f14\\u002f2020\",\"7\\u002f15\\u002f2020\",\"7\\u002f16\\u002f2020\",\"7\\u002f17\\u002f2020\",\"7\\u002f18\\u002f2020\",\"7\\u002f19\\u002f2020\",\"7\\u002f20\\u002f2020\",\"7\\u002f21\\u002f2020\",\"7\\u002f22\\u002f2020\",\"7\\u002f23\\u002f2020\",\"7\\u002f24\\u002f2020\",\"7\\u002f25\\u002f2020\",\"7\\u002f26\\u002f2020\",\"7\\u002f27\\u002f2020\",\"7\\u002f28\\u002f2020\",\"7\\u002f29\\u002f2020\",\"7\\u002f30\\u002f2020\",\"7\\u002f31\\u002f2020\",\"8\\u002f1\\u002f2020\",\"8\\u002f2\\u002f2020\",\"8\\u002f3\\u002f2020\"],\"xaxis\":\"x\",\"y\":[26.0,20.0,20.0,20.5,20.0,20.0,20.5,20.0,20.5,21.5,20.0,20.0,20.5,19.0,19.5,17.0,16.5,16.5,16.5,16.0,16.0,16.0,16.0],\"yaxis\":\"y\",\"type\":\"scatter\"},{\"hovertemplate\":\"variable=count_nomask\\u003cbr\\u003edate=%{x}\\u003cbr\\u003evalue=%{y}\\u003cextra\\u003e\\u003c\\u002fextra\\u003e\",\"legendgroup\":\"count_nomask\",\"line\":{\"color\":\"blue\",\"dash\":\"solid\"},\"marker\":{\"symbol\":\"circle\"},\"mode\":\"lines\",\"name\":\"count_nomask\",\"orientation\":\"v\",\"showlegend\":true,\"x\":[\"7\\u002f12\\u002f2020\",\"7\\u002f13\\u002f2020\",\"7\\u002f14\\u002f2020\",\"7\\u002f15\\u002f2020\",\"7\\u002f16\\u002f2020\",\"7\\u002f17\\u002f2020\",\"7\\u002f18\\u002f2020\",\"7\\u002f19\\u002f2020\",\"7\\u002f20\\u002f2020\",\"7\\u002f21\\u002f2020\",\"7\\u002f22\\u002f2020\",\"7\\u002f23\\u002f2020\",\"7\\u002f24\\u002f2020\",\"7\\u002f25\\u002f2020\",\"7\\u002f26\\u002f2020\",\"7\\u002f27\\u002f2020\",\"7\\u002f28\\u002f2020\",\"7\\u002f29\\u002f2020\",\"7\\u002f30\\u002f2020\",\"7\\u002f31\\u002f2020\",\"8\\u002f1\\u002f2020\",\"8\\u002f2\\u002f2020\",\"8\\u002f3\\u002f2020\"],\"xaxis\":\"x\",\"y\":[10.0,9.0,9.5,10.0,10.0,9.5,9.5,9.0,8.5,8.5,8.5,8.5,10.0,10.0,10.0,9.5,9.5,9.5,10.0,9.0,9.0,9.0,9.0],\"yaxis\":\"y\",\"type\":\"scatter\"}],                        {\"template\":{\"data\":{\"histogram2dcontour\":[{\"type\":\"histogram2dcontour\",\"colorbar\":{\"outlinewidth\":0,\"ticks\":\"\"},\"colorscale\":[[0.0,\"#0d0887\"],[0.1111111111111111,\"#46039f\"],[0.2222222222222222,\"#7201a8\"],[0.3333333333333333,\"#9c179e\"],[0.4444444444444444,\"#bd3786\"],[0.5555555555555556,\"#d8576b\"],[0.6666666666666666,\"#ed7953\"],[0.7777777777777778,\"#fb9f3a\"],[0.8888888888888888,\"#fdca26\"],[1.0,\"#f0f921\"]]}],\"choropleth\":[{\"type\":\"choropleth\",\"colorbar\":{\"outlinewidth\":0,\"ticks\":\"\"}}],\"histogram2d\":[{\"type\":\"histogram2d\",\"colorbar\":{\"outlinewidth\":0,\"ticks\":\"\"},\"colorscale\":[[0.0,\"#0d0887\"],[0.1111111111111111,\"#46039f\"],[0.2222222222222222,\"#7201a8\"],[0.3333333333333333,\"#9c179e\"],[0.4444444444444444,\"#bd3786\"],[0.5555555555555556,\"#d8576b\"],[0.6666666666666666,\"#ed7953\"],[0.7777777777777778,\"#fb9f3a\"],[0.8888888888888888,\"#fdca26\"],[1.0,\"#f0f921\"]]}],\"heatmap\":[{\"type\":\"heatmap\",\"colorbar\":{\"outlinewidth\":0,\"ticks\":\"\"},\"colorscale\":[[0.0,\"#0d0887\"],[0.1111111111111111,\"#46039f\"],[0.2222222222222222,\"#7201a8\"],[0.3333333333333333,\"#9c179e\"],[0.4444444444444444,\"#bd3786\"],[0.5555555555555556,\"#d8576b\"],[0.6666666666666666,\"#ed7953\"],[0.7777777777777778,\"#fb9f3a\"],[0.8888888888888888,\"#fdca26\"],[1.0,\"#f0f921\"]]}],\"heatmapgl\":[{\"type\":\"heatmapgl\",\"colorbar\":{\"outlinewidth\":0,\"ticks\":\"\"},\"colorscale\":[[0.0,\"#0d0887\"],[0.1111111111111111,\"#46039f\"],[0.2222222222222222,\"#7201a8\"],[0.3333333333333333,\"#9c179e\"],[0.4444444444444444,\"#bd3786\"],[0.5555555555555556,\"#d8576b\"],[0.6666666666666666,\"#ed7953\"],[0.7777777777777778,\"#fb9f3a\"],[0.8888888888888888,\"#fdca26\"],[1.0,\"#f0f921\"]]}],\"contourcarpet\":[{\"type\":\"contourcarpet\",\"colorbar\":{\"outlinewidth\":0,\"ticks\":\"\"}}],\"contour\":[{\"type\":\"contour\",\"colorbar\":{\"outlinewidth\":0,\"ticks\":\"\"},\"colorscale\":[[0.0,\"#0d0887\"],[0.1111111111111111,\"#46039f\"],[0.2222222222222222,\"#7201a8\"],[0.3333333333333333,\"#9c179e\"],[0.4444444444444444,\"#bd3786\"],[0.5555555555555556,\"#d8576b\"],[0.6666666666666666,\"#ed7953\"],[0.7777777777777778,\"#fb9f3a\"],[0.8888888888888888,\"#fdca26\"],[1.0,\"#f0f921\"]]}],\"surface\":[{\"type\":\"surface\",\"colorbar\":{\"outlinewidth\":0,\"ticks\":\"\"},\"colorscale\":[[0.0,\"#0d0887\"],[0.1111111111111111,\"#46039f\"],[0.2222222222222222,\"#7201a8\"],[0.3333333333333333,\"#9c179e\"],[0.4444444444444444,\"#bd3786\"],[0.5555555555555556,\"#d8576b\"],[0.6666666666666666,\"#ed7953\"],[0.7777777777777778,\"#fb9f3a\"],[0.8888888888888888,\"#fdca26\"],[1.0,\"#f0f921\"]]}],\"mesh3d\":[{\"type\":\"mesh3d\",\"colorbar\":{\"outlinewidth\":0,\"ticks\":\"\"}}],\"scatter\":[{\"fillpattern\":{\"fillmode\":\"overlay\",\"size\":10,\"solidity\":0.2},\"type\":\"scatter\"}],\"parcoords\":[{\"type\":\"parcoords\",\"line\":{\"colorbar\":{\"outlinewidth\":0,\"ticks\":\"\"}}}],\"scatterpolargl\":[{\"type\":\"scatterpolargl\",\"marker\":{\"colorbar\":{\"outlinewidth\":0,\"ticks\":\"\"}}}],\"bar\":[{\"error_x\":{\"color\":\"#2a3f5f\"},\"error_y\":{\"color\":\"#2a3f5f\"},\"marker\":{\"line\":{\"color\":\"#E5ECF6\",\"width\":0.5},\"pattern\":{\"fillmode\":\"overlay\",\"size\":10,\"solidity\":0.2}},\"type\":\"bar\"}],\"scattergeo\":[{\"type\":\"scattergeo\",\"marker\":{\"colorbar\":{\"outlinewidth\":0,\"ticks\":\"\"}}}],\"scatterpolar\":[{\"type\":\"scatterpolar\",\"marker\":{\"colorbar\":{\"outlinewidth\":0,\"ticks\":\"\"}}}],\"histogram\":[{\"marker\":{\"pattern\":{\"fillmode\":\"overlay\",\"size\":10,\"solidity\":0.2}},\"type\":\"histogram\"}],\"scattergl\":[{\"type\":\"scattergl\",\"marker\":{\"colorbar\":{\"outlinewidth\":0,\"ticks\":\"\"}}}],\"scatter3d\":[{\"type\":\"scatter3d\",\"line\":{\"colorbar\":{\"outlinewidth\":0,\"ticks\":\"\"}},\"marker\":{\"colorbar\":{\"outlinewidth\":0,\"ticks\":\"\"}}}],\"scattermapbox\":[{\"type\":\"scattermapbox\",\"marker\":{\"colorbar\":{\"outlinewidth\":0,\"ticks\":\"\"}}}],\"scatterternary\":[{\"type\":\"scatterternary\",\"marker\":{\"colorbar\":{\"outlinewidth\":0,\"ticks\":\"\"}}}],\"scattercarpet\":[{\"type\":\"scattercarpet\",\"marker\":{\"colorbar\":{\"outlinewidth\":0,\"ticks\":\"\"}}}],\"carpet\":[{\"aaxis\":{\"endlinecolor\":\"#2a3f5f\",\"gridcolor\":\"white\",\"linecolor\":\"white\",\"minorgridcolor\":\"white\",\"startlinecolor\":\"#2a3f5f\"},\"baxis\":{\"endlinecolor\":\"#2a3f5f\",\"gridcolor\":\"white\",\"linecolor\":\"white\",\"minorgridcolor\":\"white\",\"startlinecolor\":\"#2a3f5f\"},\"type\":\"carpet\"}],\"table\":[{\"cells\":{\"fill\":{\"color\":\"#EBF0F8\"},\"line\":{\"color\":\"white\"}},\"header\":{\"fill\":{\"color\":\"#C8D4E3\"},\"line\":{\"color\":\"white\"}},\"type\":\"table\"}],\"barpolar\":[{\"marker\":{\"line\":{\"color\":\"#E5ECF6\",\"width\":0.5},\"pattern\":{\"fillmode\":\"overlay\",\"size\":10,\"solidity\":0.2}},\"type\":\"barpolar\"}],\"pie\":[{\"automargin\":true,\"type\":\"pie\"}]},\"layout\":{\"autotypenumbers\":\"strict\",\"colorway\":[\"#636efa\",\"#EF553B\",\"#00cc96\",\"#ab63fa\",\"#FFA15A\",\"#19d3f3\",\"#FF6692\",\"#B6E880\",\"#FF97FF\",\"#FECB52\"],\"font\":{\"color\":\"#2a3f5f\"},\"hovermode\":\"closest\",\"hoverlabel\":{\"align\":\"left\"},\"paper_bgcolor\":\"white\",\"plot_bgcolor\":\"#E5ECF6\",\"polar\":{\"bgcolor\":\"#E5ECF6\",\"angularaxis\":{\"gridcolor\":\"white\",\"linecolor\":\"white\",\"ticks\":\"\"},\"radialaxis\":{\"gridcolor\":\"white\",\"linecolor\":\"white\",\"ticks\":\"\"}},\"ternary\":{\"bgcolor\":\"#E5ECF6\",\"aaxis\":{\"gridcolor\":\"white\",\"linecolor\":\"white\",\"ticks\":\"\"},\"baxis\":{\"gridcolor\":\"white\",\"linecolor\":\"white\",\"ticks\":\"\"},\"caxis\":{\"gridcolor\":\"white\",\"linecolor\":\"white\",\"ticks\":\"\"}},\"coloraxis\":{\"colorbar\":{\"outlinewidth\":0,\"ticks\":\"\"}},\"colorscale\":{\"sequential\":[[0.0,\"#0d0887\"],[0.1111111111111111,\"#46039f\"],[0.2222222222222222,\"#7201a8\"],[0.3333333333333333,\"#9c179e\"],[0.4444444444444444,\"#bd3786\"],[0.5555555555555556,\"#d8576b\"],[0.6666666666666666,\"#ed7953\"],[0.7777777777777778,\"#fb9f3a\"],[0.8888888888888888,\"#fdca26\"],[1.0,\"#f0f921\"]],\"sequentialminus\":[[0.0,\"#0d0887\"],[0.1111111111111111,\"#46039f\"],[0.2222222222222222,\"#7201a8\"],[0.3333333333333333,\"#9c179e\"],[0.4444444444444444,\"#bd3786\"],[0.5555555555555556,\"#d8576b\"],[0.6666666666666666,\"#ed7953\"],[0.7777777777777778,\"#fb9f3a\"],[0.8888888888888888,\"#fdca26\"],[1.0,\"#f0f921\"]],\"diverging\":[[0,\"#8e0152\"],[0.1,\"#c51b7d\"],[0.2,\"#de77ae\"],[0.3,\"#f1b6da\"],[0.4,\"#fde0ef\"],[0.5,\"#f7f7f7\"],[0.6,\"#e6f5d0\"],[0.7,\"#b8e186\"],[0.8,\"#7fbc41\"],[0.9,\"#4d9221\"],[1,\"#276419\"]]},\"xaxis\":{\"gridcolor\":\"white\",\"linecolor\":\"white\",\"ticks\":\"\",\"title\":{\"standoff\":15},\"zerolinecolor\":\"white\",\"automargin\":true,\"zerolinewidth\":2},\"yaxis\":{\"gridcolor\":\"white\",\"linecolor\":\"white\",\"ticks\":\"\",\"title\":{\"standoff\":15},\"zerolinecolor\":\"white\",\"automargin\":true,\"zerolinewidth\":2},\"scene\":{\"xaxis\":{\"backgroundcolor\":\"#E5ECF6\",\"gridcolor\":\"white\",\"linecolor\":\"white\",\"showbackground\":true,\"ticks\":\"\",\"zerolinecolor\":\"white\",\"gridwidth\":2},\"yaxis\":{\"backgroundcolor\":\"#E5ECF6\",\"gridcolor\":\"white\",\"linecolor\":\"white\",\"showbackground\":true,\"ticks\":\"\",\"zerolinecolor\":\"white\",\"gridwidth\":2},\"zaxis\":{\"backgroundcolor\":\"#E5ECF6\",\"gridcolor\":\"white\",\"linecolor\":\"white\",\"showbackground\":true,\"ticks\":\"\",\"zerolinecolor\":\"white\",\"gridwidth\":2}},\"shapedefaults\":{\"line\":{\"color\":\"#2a3f5f\"}},\"annotationdefaults\":{\"arrowcolor\":\"#2a3f5f\",\"arrowhead\":0,\"arrowwidth\":1},\"geo\":{\"bgcolor\":\"white\",\"landcolor\":\"#E5ECF6\",\"subunitcolor\":\"white\",\"showland\":true,\"showlakes\":true,\"lakecolor\":\"white\"},\"title\":{\"x\":0.05},\"mapbox\":{\"style\":\"light\"}}},\"xaxis\":{\"anchor\":\"y\",\"domain\":[0.0,1.0],\"title\":{\"text\":\"date\"}},\"yaxis\":{\"anchor\":\"x\",\"domain\":[0.0,1.0],\"title\":{\"text\":\"value\"}},\"legend\":{\"title\":{\"text\":\"variable\"},\"tracegroupgap\":0},\"margin\":{\"t\":60}},                        {\"responsive\": true}                    ).then(function(){\n",
       "                            \n",
       "var gd = document.getElementById('eb8fbcaa-1147-41ac-adfc-d789391a143c');\n",
       "var x = new MutationObserver(function (mutations, observer) {{\n",
       "        var display = window.getComputedStyle(gd).display;\n",
       "        if (!display || display === 'none') {{\n",
       "            console.log([gd, 'removed!']);\n",
       "            Plotly.purge(gd);\n",
       "            observer.disconnect();\n",
       "        }}\n",
       "}});\n",
       "\n",
       "// Listen for the removal of the full notebook cells\n",
       "var notebookContainer = gd.closest('#notebook-container');\n",
       "if (notebookContainer) {{\n",
       "    x.observe(notebookContainer, {childList: true});\n",
       "}}\n",
       "\n",
       "// Listen for the clearing of the current output cell\n",
       "var outputEl = gd.closest('.output');\n",
       "if (outputEl) {{\n",
       "    x.observe(outputEl, {childList: true});\n",
       "}}\n",
       "\n",
       "                        })                };                });            </script>        </div>"
      ]
     },
     "metadata": {},
     "output_type": "display_data"
    }
   ],
   "source": [
    "fig = px.line(DF, x='date', y=['count_mask', 'count_nomask'], color_discrete_map={'count_nomask': 'blue', 'count_mask': 'orange'})\n",
    "fig.show()"
   ]
  },
  {
   "cell_type": "markdown",
   "id": "5b58caef-ea77-4f28-a3f7-760019d4fbd6",
   "metadata": {},
   "source": [
    "**Response Q4** This graph makes it clearer that case rates in non-mask counties were always significantly lower than in counties with mask mandates.\n",
    "\n",
    "**Response Q5** I do not see any especial problem with the graphs. Presumably counties with mask mandate were given madates *because* they already had relatively high case numbers. If we take that assumption as true, we realize from the graph that masks did decrease the risk of catching covid, just not enough to match case rates in counties where presumably people are more spread out and in less physical contact to begin with.\n",
    "\n",
    "**Response Q6** My assumption that mask mandates were given to counties with high existing covid rates is potentially its own confounding variable. Another confounding variable could be that the counties with non-mask mandates may have had populations less willing to be tested, skewing the data lower than reality would indicate."
   ]
  },
  {
   "cell_type": "markdown",
   "id": "8b5bfdd2-894d-46d2-9acc-e3f1edbd3db2",
   "metadata": {},
   "source": [
    "### Group Thing\n",
    "1. Data misrepresentation occurs when real data is displayed in a way that skews a viewer's perception of the data. Data privacy refers to the moral imperative not to share personal information to people beyond what they expected when they signed up.\n",
    "\n",
    "2. In Invisible Women, Criado-Perez discusses many situations in which data is not exactly misrepresented, but in whicha\n",
    "\n",
    "3. Discussion question: What parts of a graph are most likely to cause misrepresentation of data? How applicable are studies to real life?"
   ]
  },
  {
   "cell_type": "code",
   "execution_count": null,
   "id": "82697bdf-c4db-4222-aa2d-1a81b833ed32",
   "metadata": {},
   "outputs": [],
   "source": []
  }
 ],
 "metadata": {
  "kernelspec": {
   "display_name": "Python 3 (ipykernel)",
   "language": "python",
   "name": "python3"
  },
  "language_info": {
   "codemirror_mode": {
    "name": "ipython",
    "version": 3
   },
   "file_extension": ".py",
   "mimetype": "text/x-python",
   "name": "python",
   "nbconvert_exporter": "python",
   "pygments_lexer": "ipython3",
   "version": "3.12.2"
  }
 },
 "nbformat": 4,
 "nbformat_minor": 5
}
